{
 "cells": [
  {
   "cell_type": "markdown",
   "id": "4781ed32",
   "metadata": {},
   "source": [
    "# Import necesary packages"
   ]
  },
  {
   "cell_type": "code",
   "execution_count": 14,
   "id": "cf518b4d",
   "metadata": {},
   "outputs": [],
   "source": [
    "import pandas as pd\n",
    "import matplotlib.pyplot as plt\n",
    "%matplotlib tk\n",
    "from sklearn.neighbors import KNeighborsClassifier as KNN\n",
    "from sklearn.metrics import accuracy_score as acc\n",
    "import numpy as np\n",
    "from lime import explanation\n",
    "from lime import lime_base\n",
    "import math\n",
    "import pickle5 as pickle\n",
    "from IPython.display import Image"
   ]
  },
  {
   "cell_type": "code",
   "execution_count": 2,
   "id": "13c08eeb",
   "metadata": {},
   "outputs": [],
   "source": [
    "from lime_timeseries import LimeTimeSeriesExplainer"
   ]
  },
  {
   "cell_type": "markdown",
   "id": "2c801856",
   "metadata": {},
   "source": [
    "# Load Dataset"
   ]
  },
  {
   "cell_type": "code",
   "execution_count": 3,
   "id": "585687ff",
   "metadata": {},
   "outputs": [],
   "source": [
    "path_to = './data/dataset.pkl'\n",
    "class a_dataset(object):\n",
    "    def __init__(self):\n",
    "        self.X = list()\n",
    "        self.Y = list()\n",
    "        self.parents = list()\n",
    "dataset = a_dataset()"
   ]
  },
  {
   "cell_type": "code",
   "execution_count": 4,
   "id": "0b28aae3",
   "metadata": {},
   "outputs": [],
   "source": [
    "with open(path_to, 'rb') as inp:\n",
    "    dataset.__dict__ = pickle.load(inp)"
   ]
  },
  {
   "cell_type": "code",
   "execution_count": 5,
   "id": "7b68cda5",
   "metadata": {},
   "outputs": [],
   "source": [
    "dataset.X = np.array(dataset.X)\n",
    "dataset.Y = np.array(dataset.Y)"
   ]
  },
  {
   "cell_type": "code",
   "execution_count": null,
   "id": "2379dc2f",
   "metadata": {},
   "outputs": [],
   "source": [
    "plt.figure()\n",
    "for idx in range(len(dataset.Y)):\n",
    "    if dataset.Y[idx,0] == 0:\n",
    "        plt.plot(dataset.X[idx,:], 'b')\n",
    "    elif dataset.Y[idx,1] == 0:\n",
    "        plt.plot(dataset.X[idx,:], 'r')\n",
    "plt.title('Correlations dataset')\n",
    "plt.show()"
   ]
  },
  {
   "cell_type": "code",
   "execution_count": null,
   "id": "64d65f6d",
   "metadata": {},
   "outputs": [],
   "source": []
  }
 ],
 "metadata": {
  "kernelspec": {
   "display_name": "Python 3 (ipykernel)",
   "language": "python",
   "name": "python3"
  },
  "language_info": {
   "codemirror_mode": {
    "name": "ipython",
    "version": 3
   },
   "file_extension": ".py",
   "mimetype": "text/x-python",
   "name": "python",
   "nbconvert_exporter": "python",
   "pygments_lexer": "ipython3",
   "version": "3.8.10"
  }
 },
 "nbformat": 4,
 "nbformat_minor": 5
}
